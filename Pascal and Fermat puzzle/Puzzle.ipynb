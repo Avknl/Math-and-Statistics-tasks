{
 "cells": [
  {
   "cell_type": "markdown",
   "metadata": {},
   "source": [
    "Consider the following famous puzzle from the early days of probability, investigated by Pascal and Fermat. Which of the following events is more likely: to roll at least one 6 in four rolls of a fair die, or to roll at least one double-6 in 24 rolls of two fair dice?"
   ]
  },
  {
   "cell_type": "code",
   "execution_count": 1,
   "metadata": {},
   "outputs": [],
   "source": [
    "import random\n",
    "import numpy as np"
   ]
  },
  {
   "cell_type": "code",
   "execution_count": 14,
   "metadata": {},
   "outputs": [
    {
     "name": "stdout",
     "output_type": "stream",
     "text": [
      "[3 5 5 1]\n",
      "[2 1 3 6 5 2 2 4 6 2 2 6 2 2 4 1 3 1 2 4 1 5 1 3]\n",
      "5050\n",
      "4548\n",
      "Probability of one 6 in 4 rolls: 50.5%\n",
      "Probability of double-6 in 24 rolls: 45.48%\n"
     ]
    }
   ],
   "source": [
    "roll1 = np.zeros(4, 'int8')\n",
    "roll2 = np.zeros(24, 'int8')\n",
    "one6in4 = 0\n",
    "double6in24 = 0\n",
    "n = 0\n",
    "\n",
    "while n < 10000:\n",
    "    i = 0\n",
    "    j = 0\n",
    "\n",
    "    while i < 4:\n",
    "        roll1[i] = random.randint(1,6)\n",
    "        if roll1[i] == 6:\n",
    "            one6in4 = one6in4 + 1\n",
    "            break\n",
    "        i = i+1\n",
    "\n",
    "    while j < 24:\n",
    "        roll2[j] = random.randint(1,6)\n",
    "        if roll2[j] == roll2[j-1] and roll2[j] == 6:\n",
    "            double6in24 = double6in24 + 1\n",
    "            break\n",
    "        j = j+1\n",
    "    n = n+1\n",
    "\n",
    "print(f'Probability of one 6 in 4 rolls: {one6in4/n*100}%')\n",
    "print(f'Probability of double-6 in 24 rolls: {double6in24/n*100}%')\n"
   ]
  },
  {
   "cell_type": "code",
   "execution_count": null,
   "metadata": {},
   "outputs": [],
   "source": []
  }
 ],
 "metadata": {
  "kernelspec": {
   "display_name": "Python 3.9.12 ('base')",
   "language": "python",
   "name": "python3"
  },
  "language_info": {
   "codemirror_mode": {
    "name": "ipython",
    "version": 3
   },
   "file_extension": ".py",
   "mimetype": "text/x-python",
   "name": "python",
   "nbconvert_exporter": "python",
   "pygments_lexer": "ipython3",
   "version": "3.9.12"
  },
  "orig_nbformat": 4,
  "vscode": {
   "interpreter": {
    "hash": "690fcc030dbde6f3f652c519b06a0d95da528e66105ed58c88e506e5818277cb"
   }
  }
 },
 "nbformat": 4,
 "nbformat_minor": 2
}
