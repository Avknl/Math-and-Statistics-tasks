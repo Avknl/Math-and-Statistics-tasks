{
 "cells": [
  {
   "cell_type": "markdown",
   "metadata": {},
   "source": [
    "Consider the following game: you begin with $20. You flip a fair coin, winning $10 if the coin lands heads and losing $10 if the coin lands tails. Play continues until you either go broke or have $100 (i.e., a net profit of $80).\n",
    "\n",
    "This program: \n",
    "- calculates the probability you win the game.\n",
    "- calculates the probability the game ends within ten coin flips."
   ]
  },
  {
   "cell_type": "code",
   "execution_count": 1,
   "metadata": {},
   "outputs": [],
   "source": [
    "import random\n",
    "import numpy as np"
   ]
  },
  {
   "cell_type": "code",
   "execution_count": 2,
   "metadata": {},
   "outputs": [
    {
     "name": "stdout",
     "output_type": "stream",
     "text": [
      "Probability of winning a game is 19.91 %.\n",
      "Probability of the game ends within ten coin flips is 56.29 %.\n"
     ]
    }
   ],
   "source": [
    "i = 0\n",
    "n = 0\n",
    "wins = 0\n",
    "losses = 0\n",
    "\n",
    "while i < 10000:\n",
    "    position = 20\n",
    "    game = np.array(position)\n",
    "\n",
    "    while game.min() > 0 and game.max() < 100:\n",
    "        game_result = 10 if random.randint(0,1) else -10\n",
    "        position += game_result\n",
    "        game = np.append(game, position)\n",
    "        #checking whether the game is not ended in 10 rows (1st value in array is an initial position)\n",
    "        if game.size == 12: \n",
    "            n = n+1\n",
    "    else:\n",
    "        \n",
    "        if game.min() <= 0:\n",
    "            losses = losses + 1\n",
    "        else:\n",
    "            wins = wins +1\n",
    "    i = i+1\n",
    "\n",
    "print(f'Probability of winning a game is {wins/i*100} %.')\n",
    "print(f'Probability of the game ends within ten coin flips is {100-n/i*100} %.')"
   ]
  }
 ],
 "metadata": {
  "kernelspec": {
   "display_name": "Python 3.9.12 ('base')",
   "language": "python",
   "name": "python3"
  },
  "language_info": {
   "codemirror_mode": {
    "name": "ipython",
    "version": 3
   },
   "file_extension": ".py",
   "mimetype": "text/x-python",
   "name": "python",
   "nbconvert_exporter": "python",
   "pygments_lexer": "ipython3",
   "version": "3.9.12"
  },
  "orig_nbformat": 4,
  "vscode": {
   "interpreter": {
    "hash": "690fcc030dbde6f3f652c519b06a0d95da528e66105ed58c88e506e5818277cb"
   }
  }
 },
 "nbformat": 4,
 "nbformat_minor": 2
}
